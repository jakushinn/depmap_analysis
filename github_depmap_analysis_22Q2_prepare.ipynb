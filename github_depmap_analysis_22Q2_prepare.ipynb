{
  "nbformat": 4,
  "nbformat_minor": 0,
  "metadata": {
    "colab": {
      "provenance": [],
      "authorship_tag": "ABX9TyMNsRiE50KvYDRaQn6r/LdH",
      "include_colab_link": true
    },
    "kernelspec": {
      "name": "python3",
      "display_name": "Python 3"
    },
    "language_info": {
      "name": "python"
    }
  },
  "cells": [
    {
      "cell_type": "markdown",
      "metadata": {
        "id": "view-in-github",
        "colab_type": "text"
      },
      "source": [
        "<a href=\"https://colab.research.google.com/github/jakushinn/depmap_analysis/blob/main/github_depmap_analysis_22Q2_prepare.ipynb\" target=\"_parent\"><img src=\"https://colab.research.google.com/assets/colab-badge.svg\" alt=\"Open In Colab\"/></a>"
      ]
    },
    {
      "cell_type": "code",
      "execution_count": null,
      "metadata": {
        "id": "GrICW44rJZ_T"
      },
      "outputs": [],
      "source": [
        "import pandas as pd\n",
        "import numpy as np\n",
        "from scipy import stats\n",
        "\n",
        "#get data\n",
        "!wget https://ndownloader.figshare.com/files/34990036 #22Q2 CRISPR_gene_effect\n",
        "!wget https://ndownloader.figshare.com/files/35020903 #22Q2 sample_info\n",
        "!wget https://ndownloader.figshare.com/files/34989919 #22Q2 CCLE_expression\n",
        "!wget https://ndownloader.figshare.com/files/34989940 #22Q2 CCLE_mutations\n",
        "!wget https://ndownloader.figshare.com/files/34989931 #22Q2 CCLE_fusions\n",
        "\n",
        "#create dataframe\n",
        "dfg0=pd.read_csv(\"34990036\") #gene effect score dataframe\n",
        "dfs0=pd.read_csv(\"35020903\")[[\"DepMap_ID\", \"stripped_cell_line_name\", \"primary_disease\", \"lineage\", \"lineage_subtype\", \"lineage_sub_subtype\"]] #sample info dataframe\n",
        "dfe0=pd.read_csv(\"34989919\") #expression dataframe\n",
        "dfm0=pd.read_csv(\"34989940\") #mutation dataframe\n",
        "dfm0=dfm0[~dfm0[\"Variant_Classification\"] .str.contains(\"Silent\")] #remove silent mutation\n",
        "dff0=pd.read_csv(\"34989931\") #fusion dataframe"
      ]
    },
    {
      "cell_type": "code",
      "source": [
        "#adjust dataframe\n",
        "l1=dfg0.columns.to_list()\n",
        "l1.remove(\"DepMap_ID\")\n",
        "l2=[]\n",
        "for gene in l1:\n",
        "  kakko=gene.index(\"(\")\n",
        "  genename=gene[:kakko-1]\n",
        "  l2.append(genename)\n",
        "dg1=dict(zip(l1,l2))\n",
        "dfg1=dfg0.rename(columns=dg1) #gene effect score dataframe"
      ],
      "metadata": {
        "id": "f7hUszZCJhy7"
      },
      "execution_count": null,
      "outputs": []
    },
    {
      "cell_type": "code",
      "source": [
        "l3=dfe0.columns.to_list()\n",
        "l3.remove(\"Unnamed: 0\")\n",
        "l4=[]\n",
        "for gene in l3:\n",
        "  kakko=gene.index(\"(\")\n",
        "  genename=gene[:kakko-1]\n",
        "  l4.append(genename)\n",
        "de1=dict(zip(l3,l4))\n",
        "dfe1=dfe0.rename(columns=de1)\n",
        "dfe1=dfe1.rename(columns={\"Unnamed: 0\": \"DepMap_ID\"}) #expression dataframe"
      ],
      "metadata": {
        "id": "xq_qARHfJo5I"
      },
      "execution_count": null,
      "outputs": []
    }
  ]
}